{
 "cells": [
  {
   "cell_type": "markdown",
   "metadata": {},
   "source": [
    "### Number of days you can stay in the US without triggering fiscal residency by the IRS\n",
    "<br>\n",
    "If you stay more than 182 days in the US in a set year the IRS will consider you a fiscal resident in the US, and you must pay taxes in the US.<br>\n",
    "The formula is actually a little more complex, it considers the number of days spent in the US in the last 3 years:<br><br>\n",
    "        <b>Dy0 + Dy-1 / 3 + Dy-2 / 6 > 182</b>, where<br><br>\n",
    "        Dy0 = number of days spent in the current year<br>\n",
    "        Dy-1 = number of days spent in the previous year<br>\n",
    "        Dy-2 = number of days spent two years ago<br>\n",
    "<br>\n",
    "Thus the maximun number of days you can stay in the US each year without ever triggering the fiscal residency is 121: 121 + 121 / 3 + 121 / 6 = 181.5"
   ]
  },
  {
   "cell_type": "code",
   "execution_count": 19,
   "metadata": {},
   "outputs": [
    {
     "name": "stdout",
     "output_type": "stream",
     "text": [
      "      days_spent  days_to_spend\n",
      "year                           \n",
      "2020           0          182.0\n",
      "2021           0          182.0\n",
      "2022          14          168.0\n",
      "2023           0          177.0\n",
      "2024           0          180.0\n",
      "2025           0          182.0\n"
     ]
    }
   ],
   "source": [
    "import pandas as pd\n",
    "import Days_in_US as dus\n",
    "\n",
    "# Max number of days to stay in the US without triggering fiscal residency is 182\n",
    "max_days = 182\n",
    "# A range of 6 years serves well for the majority of people. The range must always start 2 years before the current year\n",
    "range_years = [2020,2021,2022,2023,2024,2025]\n",
    "user_id = dus.get_user_id()\n",
    "db_path = \".\\\\Data\\\\\" + user_id + \"_days_usa.csv\"\n",
    "\n",
    "days_in_usa = dus.load_days_spent(db_path, range_years)\n",
    "days_in_usa = dus.get_new_spent_days(days_in_usa)\n",
    "days_in_usa = dus.calc_new_days_to_spend(days_in_usa, max_days)\n",
    "dus.write_days_spent(days_in_usa, db_path)\n",
    "\n",
    "print(days_in_usa)"
   ]
  }
 ],
 "metadata": {
  "kernelspec": {
   "display_name": "Python 3.10.5 ('Venv1': venv)",
   "language": "python",
   "name": "python3"
  },
  "language_info": {
   "codemirror_mode": {
    "name": "ipython",
    "version": 3
   },
   "file_extension": ".py",
   "mimetype": "text/x-python",
   "name": "python",
   "nbconvert_exporter": "python",
   "pygments_lexer": "ipython3",
   "version": "3.10.5"
  },
  "orig_nbformat": 4,
  "vscode": {
   "interpreter": {
    "hash": "578b54580852c8f3f942ce9823d34fceda592a2ee81225501e430f36dd9de2ac"
   }
  }
 },
 "nbformat": 4,
 "nbformat_minor": 2
}
